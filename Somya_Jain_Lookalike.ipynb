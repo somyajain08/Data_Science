{
  "nbformat": 4,
  "nbformat_minor": 0,
  "metadata": {
    "colab": {
      "provenance": []
    },
    "kernelspec": {
      "name": "python3",
      "display_name": "Python 3"
    },
    "language_info": {
      "name": "python"
    }
  },
  "cells": [
    {
      "cell_type": "code",
      "execution_count": 2,
      "metadata": {
        "colab": {
          "base_uri": "https://localhost:8080/"
        },
        "id": "TxOZrNjA6ZEM",
        "outputId": "86dbb1d8-0d33-419f-b636-b8067e8644f8"
      },
      "outputs": [
        {
          "output_type": "stream",
          "name": "stdout",
          "text": [
            "  CustomerID        CustomerName         Region  SignupDate\n",
            "0      C0001    Lawrence Carroll  South America  2022-07-10\n",
            "1      C0002      Elizabeth Lutz           Asia  2022-02-13\n",
            "2      C0003      Michael Rivera  South America  2024-03-07\n",
            "3      C0004  Kathleen Rodriguez  South America  2022-10-09\n",
            "4      C0005         Laura Weber           Asia  2022-08-15\n",
            "  ProductID              ProductName     Category   Price\n",
            "0      P001     ActiveWear Biography        Books  169.30\n",
            "1      P002    ActiveWear Smartwatch  Electronics  346.30\n",
            "2      P003  ComfortLiving Biography        Books   44.12\n",
            "3      P004            BookWorld Rug   Home Decor   95.69\n",
            "4      P005          TechPro T-Shirt     Clothing  429.31\n",
            "  TransactionID CustomerID ProductID      TransactionDate  Quantity  \\\n",
            "0        T00001      C0199      P067  2024-08-25 12:38:23         1   \n",
            "1        T00112      C0146      P067  2024-05-27 22:23:54         1   \n",
            "2        T00166      C0127      P067  2024-04-25 07:38:55         1   \n",
            "3        T00272      C0087      P067  2024-03-26 22:55:37         2   \n",
            "4        T00363      C0070      P067  2024-03-21 15:10:10         3   \n",
            "\n",
            "   TotalValue   Price  \n",
            "0      300.68  300.68  \n",
            "1      300.68  300.68  \n",
            "2      300.68  300.68  \n",
            "3      601.36  300.68  \n",
            "4      902.04  300.68  \n"
          ]
        }
      ],
      "source": [
        "import pandas as pd\n",
        "\n",
        "# Load datasets\n",
        "customers = pd.read_csv('Customers.csv')\n",
        "products = pd.read_csv('Products.csv')\n",
        "transactions = pd.read_csv('Transactions.csv')\n",
        "\n",
        "# Preview datasets\n",
        "print(customers.head())\n",
        "print(products.head())\n",
        "print(transactions.head())\n"
      ]
    },
    {
      "cell_type": "code",
      "source": [
        "# Merge transactions with products\n",
        "transactions = transactions.merge(products, on='ProductID')\n",
        "\n",
        "# Merge transactions with customers\n",
        "data = transactions.merge(customers, on='CustomerID')\n",
        "\n",
        "print(data.head())\n"
      ],
      "metadata": {
        "colab": {
          "base_uri": "https://localhost:8080/"
        },
        "id": "j5KiYEUS6kCI",
        "outputId": "d13de2c1-c07d-407b-db51-66cc94dbfa30"
      },
      "execution_count": 3,
      "outputs": [
        {
          "output_type": "stream",
          "name": "stdout",
          "text": [
            "  TransactionID CustomerID ProductID      TransactionDate  Quantity  \\\n",
            "0        T00001      C0199      P067  2024-08-25 12:38:23         1   \n",
            "1        T00112      C0146      P067  2024-05-27 22:23:54         1   \n",
            "2        T00166      C0127      P067  2024-04-25 07:38:55         1   \n",
            "3        T00272      C0087      P067  2024-03-26 22:55:37         2   \n",
            "4        T00363      C0070      P067  2024-03-21 15:10:10         3   \n",
            "\n",
            "   TotalValue  Price_x                      ProductName     Category  Price_y  \\\n",
            "0      300.68   300.68  ComfortLiving Bluetooth Speaker  Electronics   300.68   \n",
            "1      300.68   300.68  ComfortLiving Bluetooth Speaker  Electronics   300.68   \n",
            "2      300.68   300.68  ComfortLiving Bluetooth Speaker  Electronics   300.68   \n",
            "3      601.36   300.68  ComfortLiving Bluetooth Speaker  Electronics   300.68   \n",
            "4      902.04   300.68  ComfortLiving Bluetooth Speaker  Electronics   300.68   \n",
            "\n",
            "      CustomerName         Region  SignupDate  \n",
            "0   Andrea Jenkins         Europe  2022-12-03  \n",
            "1  Brittany Harvey           Asia  2024-09-04  \n",
            "2  Kathryn Stevens         Europe  2024-04-04  \n",
            "3  Travis Campbell  South America  2024-04-11  \n",
            "4    Timothy Perez         Europe  2022-03-15  \n"
          ]
        }
      ]
    },
    {
      "cell_type": "code",
      "source": [
        "# Calculate total spending per customer\n",
        "customer_spending = data.groupby('CustomerID')['TotalValue'].sum().reset_index()\n",
        "customer_spending.rename(columns={'TotalValue': 'TotalSpending'}, inplace=True)\n",
        "\n",
        "# Calculate average transaction value per customer\n",
        "customer_avg_transaction = data.groupby('CustomerID')['TotalValue'].mean().reset_index()\n",
        "customer_avg_transaction.rename(columns={'TotalValue': 'AvgTransactionValue'}, inplace=True)\n",
        "\n",
        "# Count product category preferences\n",
        "category_preferences = pd.crosstab(data['CustomerID'], data['Category'])\n",
        "\n",
        "# Combine all features into a single DataFrame\n",
        "customer_features = customers.merge(customer_spending, on='CustomerID', how='left')\n",
        "customer_features = customer_features.merge(customer_avg_transaction, on='CustomerID', how='left')\n",
        "customer_features = customer_features.merge(category_preferences, on='CustomerID', how='left')\n",
        "\n",
        "# Fill missing values with 0\n",
        "customer_features.fillna(0, inplace=True)\n",
        "\n",
        "print(customer_features.head())\n"
      ],
      "metadata": {
        "colab": {
          "base_uri": "https://localhost:8080/"
        },
        "id": "yAbzKXyT66jP",
        "outputId": "c99633d6-8e8a-4865-975f-c10fa5c4b6db"
      },
      "execution_count": 4,
      "outputs": [
        {
          "output_type": "stream",
          "name": "stdout",
          "text": [
            "  CustomerID        CustomerName         Region  SignupDate  TotalSpending  \\\n",
            "0      C0001    Lawrence Carroll  South America  2022-07-10        3354.52   \n",
            "1      C0002      Elizabeth Lutz           Asia  2022-02-13        1862.74   \n",
            "2      C0003      Michael Rivera  South America  2024-03-07        2725.38   \n",
            "3      C0004  Kathleen Rodriguez  South America  2022-10-09        5354.88   \n",
            "4      C0005         Laura Weber           Asia  2022-08-15        2034.24   \n",
            "\n",
            "   AvgTransactionValue  Books  Clothing  Electronics  Home Decor  \n",
            "0              670.904    1.0       0.0          3.0         1.0  \n",
            "1              465.685    0.0       2.0          0.0         2.0  \n",
            "2              681.345    0.0       1.0          1.0         2.0  \n",
            "3              669.360    3.0       0.0          2.0         3.0  \n",
            "4              678.080    0.0       0.0          2.0         1.0  \n"
          ]
        }
      ]
    },
    {
      "cell_type": "code",
      "source": [
        "from sklearn.preprocessing import MinMaxScaler\n",
        "\n",
        "# Select numerical columns for normalization\n",
        "numerical_cols = customer_features.select_dtypes(include=['float64', 'int64']).columns\n",
        "\n",
        "# Normalize numerical columns\n",
        "scaler = MinMaxScaler()\n",
        "customer_features[numerical_cols] = scaler.fit_transform(customer_features[numerical_cols])\n",
        "\n",
        "print(customer_features.head())\n"
      ],
      "metadata": {
        "colab": {
          "base_uri": "https://localhost:8080/"
        },
        "id": "JrkgjNN8681w",
        "outputId": "74c74f13-0bf4-4528-e40c-7479ae417f4e"
      },
      "execution_count": 5,
      "outputs": [
        {
          "output_type": "stream",
          "name": "stdout",
          "text": [
            "  CustomerID        CustomerName         Region  SignupDate  TotalSpending  \\\n",
            "0      C0001    Lawrence Carroll  South America  2022-07-10       0.314274   \n",
            "1      C0002      Elizabeth Lutz           Asia  2022-02-13       0.174514   \n",
            "2      C0003      Michael Rivera  South America  2024-03-07       0.255332   \n",
            "3      C0004  Kathleen Rodriguez  South America  2022-10-09       0.501681   \n",
            "4      C0005         Laura Weber           Asia  2022-08-15       0.190581   \n",
            "\n",
            "   AvgTransactionValue  Books  Clothing  Electronics  Home Decor  \n",
            "0             0.507057    0.2       0.0          0.6    0.166667  \n",
            "1             0.351956    0.0       0.4          0.0    0.333333  \n",
            "2             0.514948    0.0       0.2          0.2    0.333333  \n",
            "3             0.505890    0.6       0.0          0.4    0.500000  \n",
            "4             0.512480    0.0       0.0          0.4    0.166667  \n"
          ]
        }
      ]
    },
    {
      "cell_type": "code",
      "source": [
        "from sklearn.metrics.pairwise import cosine_similarity\n",
        "\n",
        "# Compute cosine similarity matrix\n",
        "similarity_matrix = cosine_similarity(customer_features[numerical_cols])\n",
        "\n",
        "# Convert to a DataFrame for easy manipulation\n",
        "similarity_df = pd.DataFrame(similarity_matrix, index=customer_features['CustomerID'], columns=customer_features['CustomerID'])\n",
        "\n",
        "print(similarity_df.head())\n"
      ],
      "metadata": {
        "colab": {
          "base_uri": "https://localhost:8080/"
        },
        "id": "mxLVndRX7Bb4",
        "outputId": "c18e6715-3a91-4be5-c970-01967a379e19"
      },
      "execution_count": 6,
      "outputs": [
        {
          "output_type": "stream",
          "name": "stdout",
          "text": [
            "CustomerID     C0001     C0002     C0003     C0004     C0005     C0006  \\\n",
            "CustomerID                                                               \n",
            "C0001       1.000000  0.500277  0.808600  0.856999  0.951308  0.711859   \n",
            "C0002       0.500277  1.000000  0.885126  0.586321  0.591543  0.736503   \n",
            "C0003       0.808600  0.885126  1.000000  0.778289  0.889464  0.832574   \n",
            "C0004       0.856999  0.586321  0.778289  1.000000  0.758583  0.810212   \n",
            "C0005       0.951308  0.591543  0.889464  0.758583  1.000000  0.726567   \n",
            "\n",
            "CustomerID     C0007     C0008     C0009     C0010  ...     C0191     C0192  \\\n",
            "CustomerID                                          ...                       \n",
            "C0001       0.930154  0.802864  0.580197  0.395416  ...  0.854094  0.928400   \n",
            "C0002       0.612147  0.769940  0.767015  0.804178  ...  0.356461  0.587797   \n",
            "C0003       0.900881  0.849063  0.702609  0.623572  ...  0.594605  0.783015   \n",
            "C0004       0.750220  0.830519  0.411692  0.442937  ...  0.878161  0.775528   \n",
            "C0005       0.993777  0.754367  0.597472  0.387383  ...  0.712469  0.868243   \n",
            "\n",
            "CustomerID     C0193     C0194     C0195     C0196     C0197     C0198  \\\n",
            "CustomerID                                                               \n",
            "C0001       0.593943  0.898720  0.709999  0.714257  0.954553  0.800502   \n",
            "C0002       0.374319  0.698138  0.949697  0.813518  0.585653  0.730442   \n",
            "C0003       0.494673  0.846411  0.967996  0.918740  0.885190  0.853774   \n",
            "C0004       0.787605  0.963363  0.744878  0.775095  0.759178  0.580685   \n",
            "C0005       0.484430  0.810961  0.770387  0.789633  0.999660  0.863398   \n",
            "\n",
            "CustomerID     C0199     C0200  \n",
            "CustomerID                      \n",
            "C0001       0.919925  0.788766  \n",
            "C0002       0.631991  0.844707  \n",
            "C0003       0.894424  0.921100  \n",
            "C0004       0.807205  0.776745  \n",
            "C0005       0.950526  0.811187  \n",
            "\n",
            "[5 rows x 200 columns]\n"
          ]
        }
      ]
    },
    {
      "cell_type": "code",
      "source": [
        "# Function to get top 3 similar customers\n",
        "def get_top_3_similar(customers_df, customer_id):\n",
        "    similar_customers = customers_df[customer_id].sort_values(ascending=False).iloc[1:4]\n",
        "    return list(zip(similar_customers.index, similar_customers.values))\n",
        "\n",
        "# Generate recommendations for customers C0001 to C0020\n",
        "lookalike_data = {}\n",
        "for customer_id in customer_features['CustomerID'][:20]:\n",
        "    lookalike_data[customer_id] = get_top_3_similar(similarity_df, customer_id)\n",
        "\n",
        "# Convert to a DataFrame\n",
        "lookalike_df = pd.DataFrame({\n",
        "    'CustomerID': lookalike_data.keys(),\n",
        "    'Lookalikes': [value for value in lookalike_data.values()]\n",
        "})\n",
        "\n",
        "print(lookalike_df)\n"
      ],
      "metadata": {
        "colab": {
          "base_uri": "https://localhost:8080/"
        },
        "id": "1Wm55KvF7FBX",
        "outputId": "a02717f1-6b66-4fa7-ae95-e44e1a7c0749"
      },
      "execution_count": 7,
      "outputs": [
        {
          "output_type": "stream",
          "name": "stdout",
          "text": [
            "   CustomerID                                         Lookalikes\n",
            "0       C0001  [(C0146, 0.9849093056855885), (C0035, 0.984569...\n",
            "1       C0002  [(C0134, 0.9861738653029506), (C0133, 0.976658...\n",
            "2       C0003  [(C0166, 0.9981368903264345), (C0158, 0.990010...\n",
            "3       C0004  [(C0017, 0.9721830996350582), (C0113, 0.969024...\n",
            "4       C0005  [(C0197, 0.9996595915950468), (C0007, 0.993776...\n",
            "5       C0006  [(C0135, 0.9910796141297742), (C0167, 0.983186...\n",
            "6       C0007  [(C0005, 0.9937765536360452), (C0197, 0.990532...\n",
            "7       C0008  [(C0162, 0.9656006917907872), (C0181, 0.945891...\n",
            "8       C0009  [(C0034, 0.951112236091614), (C0092, 0.9490201...\n",
            "9       C0010  [(C0077, 0.9895437462584057), (C0083, 0.979444...\n",
            "10      C0011  [(C0126, 0.9921044763819368), (C0027, 0.989205...\n",
            "11      C0012  [(C0065, 0.9876468679598578), (C0152, 0.983406...\n",
            "12      C0013  [(C0107, 0.9896481906759469), (C0105, 0.988992...\n",
            "13      C0014  [(C0151, 0.9852344025310596), (C0128, 0.968680...\n",
            "14      C0015  [(C0123, 0.9969369053054044), (C0073, 0.972094...\n",
            "15      C0016  [(C0183, 0.9999951812780966), (C0107, 0.999447...\n",
            "16      C0017  [(C0075, 0.9883295070302321), (C0194, 0.986684...\n",
            "17      C0018  [(C0168, 0.9788664595481981), (C0125, 0.973593...\n",
            "18      C0019  [(C0191, 0.9571261980012316), (C0121, 0.942932...\n",
            "19      C0020  [(C0130, 0.9909853390997839), (C0140, 0.970342...\n"
          ]
        }
      ]
    },
    {
      "cell_type": "code",
      "source": [
        "lookalike_df.to_csv('Lookalike.csv', index=False)\n"
      ],
      "metadata": {
        "id": "DKUOmDPS7Ow2"
      },
      "execution_count": 8,
      "outputs": []
    },
    {
      "cell_type": "code",
      "source": [],
      "metadata": {
        "id": "1ulYi4xL7U25"
      },
      "execution_count": null,
      "outputs": []
    }
  ]
}